{
  "nbformat": 4,
  "nbformat_minor": 0,
  "metadata": {
    "colab": {
      "name": "Play_with_VOC2007.ipynb",
      "version": "0.3.2",
      "provenance": [],
      "collapsed_sections": []
    },
    "kernelspec": {
      "name": "python3",
      "display_name": "Python 3"
    },
    "accelerator": "GPU"
  },
  "cells": [
    {
      "metadata": {
        "id": "IlCSmcmyZme0",
        "colab_type": "code",
        "colab": {}
      },
      "cell_type": "code",
      "source": [
        "from google.colab import drive\n",
        "drive.mount('/content/drive')\n",
        "#!ls drive/My\\ Drive"
      ],
      "execution_count": 0,
      "outputs": []
    },
    {
      "metadata": {
        "id": "SPrgmFlhZsc1",
        "colab_type": "code",
        "colab": {}
      },
      "cell_type": "code",
      "source": [
        "#!pip3 install torch\n",
        "#!pip3 install torchvision"
      ],
      "execution_count": 0,
      "outputs": []
    },
    {
      "metadata": {
        "id": "QpTxCi0iZsf8",
        "colab_type": "code",
        "colab": {}
      },
      "cell_type": "code",
      "source": [
        "#!tar -xvf \"/content/drive/My Drive/VOCtrainval_06-Nov-2007.tar\""
      ],
      "execution_count": 0,
      "outputs": []
    },
    {
      "metadata": {
        "id": "eGEyRrA6ZuSS",
        "colab_type": "code",
        "colab": {}
      },
      "cell_type": "code",
      "source": [
        "#import os\n",
        "#os.listdir(\"/content/VOCdevkit/VOC2007/\")"
      ],
      "execution_count": 0,
      "outputs": []
    },
    {
      "metadata": {
        "id": "iGD8XhnrbrRb",
        "colab_type": "code",
        "colab": {
          "base_uri": "https://localhost:8080/",
          "height": 51
        },
        "outputId": "c39f48ce-2217-4edf-81aa-91ff4153373d"
      },
      "cell_type": "code",
      "source": [
        "import os\n",
        "\n",
        "def get_idx_name(path):\n",
        "  idx = os.listdir(path)\n",
        "  idx_name = []\n",
        "  for i in range(len(idx)):\n",
        "    idx_name.append(os.path.splitext(idx[i])[0])\n",
        "  return idx_name\n",
        "\n",
        "\n",
        "img_path = \"/content/VOCdevkit/VOC2007/JPEGImages\"\n",
        "mask_path = \"/content/VOCdevkit/VOC2007/SegmentationObject\"\n",
        "\n",
        "img_idx = get_idx_name(\"/content/VOCdevkit/VOC2007/JPEGImages\")\n",
        "mask_idx = get_idx_name(\"/content/VOCdevkit/VOC2007/SegmentationObject\")\n",
        "print(len(img_idx), img_idx[:3])\n",
        "print(len(mask_idx), mask_idx[:3])"
      ],
      "execution_count": 1,
      "outputs": [
        {
          "output_type": "stream",
          "text": [
            "5011 ['009022', '000035', '005371']\n",
            "422 ['001185', '000661', '008670']\n"
          ],
          "name": "stdout"
        }
      ]
    },
    {
      "metadata": {
        "id": "Qe_2Vjnut3Id",
        "colab_type": "code",
        "colab": {
          "base_uri": "https://localhost:8080/",
          "height": 51
        },
        "outputId": "e35219df-32e5-4ba0-e357-afd950905110"
      },
      "cell_type": "code",
      "source": [
        "img_has_mask_idx = set(img_idx) & set(mask_idx)\n",
        "img_has_mask_idx = list(img_has_mask_idx)\n",
        "\n",
        "print(len(img_has_mask_idx), sorted(img_has_mask_idx)[:3])\n",
        "print(len(mask_idx), sorted(mask_idx)[:3])"
      ],
      "execution_count": 2,
      "outputs": [
        {
          "output_type": "stream",
          "text": [
            "422 ['000032', '000033', '000039']\n",
            "422 ['000032', '000033', '000039']\n"
          ],
          "name": "stdout"
        }
      ]
    },
    {
      "metadata": {
        "id": "n8bijSO7j3kZ",
        "colab_type": "code",
        "colab": {
          "base_uri": "https://localhost:8080/",
          "height": 34
        },
        "outputId": "63485df0-8680-449b-cac2-a198f20d8a96"
      },
      "cell_type": "code",
      "source": [
        "import pandas as pd\n",
        "import numpy as np\n",
        "import matplotlib.pyplot as plt\n",
        "plt.style.use('seaborn-white')\n",
        "import seaborn as sns\n",
        "sns.set_style(\"white\")\n",
        "\n",
        "%matplotlib inline\n",
        "\n",
        "from keras.preprocessing.image import array_to_img, img_to_array, load_img"
      ],
      "execution_count": 3,
      "outputs": [
        {
          "output_type": "stream",
          "text": [
            "Using TensorFlow backend.\n"
          ],
          "name": "stderr"
        }
      ]
    },
    {
      "metadata": {
        "id": "St0HAACJshug",
        "colab_type": "code",
        "colab": {}
      },
      "cell_type": "code",
      "source": [
        "# https://forums.fast.ai/t/attributeerror-module-pil-image-has-no-attribute-register-extensions/10689/2\n",
        "!pip install --no-cache-dir -I pillow"
      ],
      "execution_count": 0,
      "outputs": []
    },
    {
      "metadata": {
        "id": "ux7lfsD9fbG4",
        "colab_type": "code",
        "colab": {
          "base_uri": "https://localhost:8080/",
          "height": 221
        },
        "outputId": "4d8b3534-31fd-48a0-e56a-86d31eaf4e79"
      },
      "cell_type": "code",
      "source": [
        "train_df = pd.DataFrame()\n",
        "train_df[\"images\"] = [np.array(load_img(img_path + \"/{}.jpg\".format(idx), color_mode=\"grayscale\")) / 255 for idx in sorted(img_has_mask_idx)]\n",
        "train_df[\"masks\"] = [np.array(load_img(mask_path + \"/{}.png\".format(idx), color_mode=\"grayscale\")) / 255 for idx in sorted(mask_idx)]\n",
        "print(train_df.shape)\n",
        "train_df.head()"
      ],
      "execution_count": 13,
      "outputs": [
        {
          "output_type": "stream",
          "text": [
            "(422, 2)\n"
          ],
          "name": "stdout"
        },
        {
          "output_type": "execute_result",
          "data": {
            "text/html": [
              "<div>\n",
              "<style scoped>\n",
              "    .dataframe tbody tr th:only-of-type {\n",
              "        vertical-align: middle;\n",
              "    }\n",
              "\n",
              "    .dataframe tbody tr th {\n",
              "        vertical-align: top;\n",
              "    }\n",
              "\n",
              "    .dataframe thead th {\n",
              "        text-align: right;\n",
              "    }\n",
              "</style>\n",
              "<table border=\"1\" class=\"dataframe\">\n",
              "  <thead>\n",
              "    <tr style=\"text-align: right;\">\n",
              "      <th></th>\n",
              "      <th>images</th>\n",
              "      <th>masks</th>\n",
              "    </tr>\n",
              "  </thead>\n",
              "  <tbody>\n",
              "    <tr>\n",
              "      <th>0</th>\n",
              "      <td>[[0.6901960784313725, 0.6901960784313725, 0.69...</td>\n",
              "      <td>[[0.0, 0.0, 0.0, 0.0, 0.0, 0.0, 0.0, 0.0, 0.0,...</td>\n",
              "    </tr>\n",
              "    <tr>\n",
              "      <th>1</th>\n",
              "      <td>[[0.8666666666666667, 0.8313725490196079, 0.84...</td>\n",
              "      <td>[[0.0, 0.0, 0.0, 0.0, 0.0, 0.0, 0.0, 0.0, 0.0,...</td>\n",
              "    </tr>\n",
              "    <tr>\n",
              "      <th>2</th>\n",
              "      <td>[[0.6352941176470588, 0.6588235294117647, 0.66...</td>\n",
              "      <td>[[0.0, 0.0, 0.0, 0.0, 0.0, 0.0, 0.0, 0.0, 0.0,...</td>\n",
              "    </tr>\n",
              "    <tr>\n",
              "      <th>3</th>\n",
              "      <td>[[0.9058823529411765, 0.9019607843137255, 0.90...</td>\n",
              "      <td>[[0.0, 0.0, 0.0, 0.0, 0.0, 0.0, 0.0, 0.0, 0.0,...</td>\n",
              "    </tr>\n",
              "    <tr>\n",
              "      <th>4</th>\n",
              "      <td>[[0.9568627450980393, 0.9490196078431372, 0.94...</td>\n",
              "      <td>[[0.0, 0.0, 0.0, 0.0, 0.0, 0.0, 0.0, 0.0, 0.0,...</td>\n",
              "    </tr>\n",
              "  </tbody>\n",
              "</table>\n",
              "</div>"
            ],
            "text/plain": [
              "                                              images  \\\n",
              "0  [[0.6901960784313725, 0.6901960784313725, 0.69...   \n",
              "1  [[0.8666666666666667, 0.8313725490196079, 0.84...   \n",
              "2  [[0.6352941176470588, 0.6588235294117647, 0.66...   \n",
              "3  [[0.9058823529411765, 0.9019607843137255, 0.90...   \n",
              "4  [[0.9568627450980393, 0.9490196078431372, 0.94...   \n",
              "\n",
              "                                               masks  \n",
              "0  [[0.0, 0.0, 0.0, 0.0, 0.0, 0.0, 0.0, 0.0, 0.0,...  \n",
              "1  [[0.0, 0.0, 0.0, 0.0, 0.0, 0.0, 0.0, 0.0, 0.0,...  \n",
              "2  [[0.0, 0.0, 0.0, 0.0, 0.0, 0.0, 0.0, 0.0, 0.0,...  \n",
              "3  [[0.0, 0.0, 0.0, 0.0, 0.0, 0.0, 0.0, 0.0, 0.0,...  \n",
              "4  [[0.0, 0.0, 0.0, 0.0, 0.0, 0.0, 0.0, 0.0, 0.0,...  "
            ]
          },
          "metadata": {
            "tags": []
          },
          "execution_count": 13
        }
      ]
    },
    {
      "metadata": {
        "id": "9hV9wPCNsocx",
        "colab_type": "code",
        "colab": {
          "base_uri": "https://localhost:8080/",
          "height": 34
        },
        "outputId": "f671f6c2-b143-4abe-ab25-fc8c7dc8a24f"
      },
      "cell_type": "code",
      "source": [
        "train_df.images[0].shape, train_df.masks[0].shape"
      ],
      "execution_count": 14,
      "outputs": [
        {
          "output_type": "execute_result",
          "data": {
            "text/plain": [
              "((281, 500), (281, 500))"
            ]
          },
          "metadata": {
            "tags": []
          },
          "execution_count": 14
        }
      ]
    },
    {
      "metadata": {
        "id": "T79pYb22dvyg",
        "colab_type": "code",
        "colab": {
          "base_uri": "https://localhost:8080/",
          "height": 154
        },
        "outputId": "3c2e395b-90a3-4617-ec27-5a883857b449"
      },
      "cell_type": "code",
      "source": [
        "plt.subplot(1, 2, 1)\n",
        "plt.imshow(train_df.images[0])\n",
        "\n",
        "plt.subplot(1, 2, 2)\n",
        "plt.imshow(train_df.masks[0])"
      ],
      "execution_count": 15,
      "outputs": [
        {
          "output_type": "execute_result",
          "data": {
            "text/plain": [
              "<matplotlib.image.AxesImage at 0x7f965a9c4828>"
            ]
          },
          "metadata": {
            "tags": []
          },
          "execution_count": 15
        },
        {
          "output_type": "display_data",
          "data": {
            "image/png": "[encoded data removed]",
            "text/plain": [
              "<Figure size 432x288 with 2 Axes>"
            ]
          },
          "metadata": {
            "tags": []
          }
        }
      ]
    },
    {
      "metadata": {
        "id": "ZQ0eJdFQqt4i",
        "colab_type": "code",
        "colab": {}
      },
      "cell_type": "code",
      "source": [
        "from skimage.transform import resize\n",
        "\n",
        "#img_size_ori = 101\n",
        "#img_size_target = train_df.images[0].shape[0]\n",
        "\n",
        "img_size_ori = train_df.images[0].shape[0]\n",
        "img_size_target = 101\n",
        "\n",
        "def upsample(img):# not used\n",
        "    if img_size_ori == img_size_target:\n",
        "        return img\n",
        "    return resize(img, (img_size_target, img_size_target), mode='constant', preserve_range=True)\n",
        "    \n",
        "def downsample(img):# not used\n",
        "    if img_size_ori == img_size_target:\n",
        "        return img\n",
        "    return resize(img, (img_size_ori, img_size_ori), mode='constant', preserve_range=True)"
      ],
      "execution_count": 0,
      "outputs": []
    },
    {
      "metadata": {
        "id": "35yCPfXn4SlR",
        "colab_type": "text"
      },
      "cell_type": "markdown",
      "source": [
        "**build model ~ predict**"
      ]
    },
    {
      "metadata": {
        "id": "tdngLS-e_Hl-",
        "colab_type": "code",
        "colab": {
          "base_uri": "https://localhost:8080/",
          "height": 34
        },
        "outputId": "66ed03e4-a439-486e-c636-0e73d5ad47b5"
      },
      "cell_type": "code",
      "source": [
        "from sklearn.model_selection import train_test_split\n",
        "\n",
        "x_train, x_valid, y_train, y_valid = train_test_split(\n",
        "    np.array(train_df.images[1:].map(upsample).tolist()).reshape(-1, img_size_target, img_size_target, 1), \n",
        "    np.array(train_df.masks[1:].map(upsample).tolist()).reshape(-1, img_size_target, img_size_target, 1), \n",
        "\n",
        "    test_size=0.2, random_state= 1234)\n",
        "\n",
        "# for check\n",
        "# train_df.images[0] and train_df.masks[0]\n",
        "\n",
        "x_train.shape, x_valid.shape, y_train.shape, y_valid.shape"
      ],
      "execution_count": 82,
      "outputs": [
        {
          "output_type": "execute_result",
          "data": {
            "text/plain": [
              "((336, 101, 101, 1), (85, 101, 101, 1), (336, 101, 101, 1), (85, 101, 101, 1))"
            ]
          },
          "metadata": {
            "tags": []
          },
          "execution_count": 82
        }
      ]
    },
    {
      "metadata": {
        "id": "QvbLApjjiqP_",
        "colab_type": "code",
        "colab": {}
      },
      "cell_type": "code",
      "source": [
        "plt.subplot(1, 4, 1)\n",
        "plt.imshow(x_train[0].reshape(281, 281))\n",
        "\n",
        "plt.subplot(1, 4, 2)\n",
        "plt.imshow(y_train[0].reshape(281, 281))\n",
        "\n",
        "plt.subplot(1, 4, 3)\n",
        "plt.imshow(x_valid[0].reshape(281, 281))\n",
        "\n",
        "plt.subplot(1, 4, 4)\n",
        "plt.imshow(y_valid[0].reshape(281, 281))"
      ],
      "execution_count": 0,
      "outputs": []
    },
    {
      "metadata": {
        "id": "g4mTcmVwmz8s",
        "colab_type": "code",
        "colab": {
          "base_uri": "https://localhost:8080/",
          "height": 141
        },
        "outputId": "3ef24064-de39-406d-daf6-02b1ece44e8a"
      },
      "cell_type": "code",
      "source": [
        "plt.subplot(1, 4, 1)\n",
        "plt.imshow(x_train[0].reshape(101, 101))\n",
        "\n",
        "plt.subplot(1, 4, 2)\n",
        "plt.imshow(y_train[0].reshape(101, 101))\n",
        "\n",
        "plt.subplot(1, 4, 3)\n",
        "plt.imshow(x_valid[0].reshape(101, 101))\n",
        "\n",
        "plt.subplot(1, 4, 4)\n",
        "plt.imshow(y_valid[0].reshape(101, 101))"
      ],
      "execution_count": 83,
      "outputs": [
        {
          "output_type": "execute_result",
          "data": {
            "text/plain": [
              "<matplotlib.image.AxesImage at 0x7f962f04d160>"
            ]
          },
          "metadata": {
            "tags": []
          },
          "execution_count": 83
        },
        {
          "output_type": "display_data",
          "data": {
            "image/png": "[encoded data removed]",
            "text/plain": [
              "<Figure size 432x288 with 4 Axes>"
            ]
          },
          "metadata": {
            "tags": []
          }
        }
      ]
    },
    {
      "metadata": {
        "id": "4bk_UpJ7t05K",
        "colab_type": "code",
        "colab": {
          "base_uri": "https://localhost:8080/",
          "height": 51
        },
        "outputId": "65661bdf-6eda-4853-aa7a-8e2736d56c1a"
      },
      "cell_type": "code",
      "source": [
        "x_train_aug = np.append(x_train, [np.fliplr(x) for x in x_train], axis=0)\n",
        "y_train_aug = np.append(y_train, [np.fliplr(x) for x in y_train], axis=0)\n",
        "print(x_train_aug.shape)\n",
        "print(y_valid.shape)"
      ],
      "execution_count": 84,
      "outputs": [
        {
          "output_type": "stream",
          "text": [
            "(672, 101, 101, 1)\n",
            "(85, 101, 101, 1)\n"
          ],
          "name": "stdout"
        }
      ]
    },
    {
      "metadata": {
        "id": "zQv4a7s1k9dZ",
        "colab_type": "text"
      },
      "cell_type": "markdown",
      "source": [
        "**build model**\n",
        "\n",
        "cf : \n",
        "\n",
        "https://www.kaggle.com/shaojiaxin/u-net-with-simple-resnet-blocks-v2-new-loss\n",
        "\n",
        "\n",
        "https://www.kaggle.com/c/tgs-salt-identification-challenge/discussion/63044\n"
      ]
    },
    {
      "metadata": {
        "id": "pJErP8WWlfb7",
        "colab_type": "code",
        "colab": {}
      },
      "cell_type": "code",
      "source": [
        "from keras.models import Model, load_model, save_model\n",
        "from keras.layers import Input,Dropout,BatchNormalization,Activation,Add\n",
        "from keras.layers.core import Lambda\n",
        "from keras.layers.convolutional import Conv2D, Conv2DTranspose\n",
        "from keras.layers.pooling import MaxPooling2D\n",
        "from keras.layers.merge import concatenate\n",
        "from keras.callbacks import EarlyStopping, ModelCheckpoint, ReduceLROnPlateau\n",
        "from keras import backend as K\n",
        "from keras import optimizers\n",
        "\n",
        "import tensorflow as tf"
      ],
      "execution_count": 0,
      "outputs": []
    },
    {
      "metadata": {
        "id": "Khat2Nkvk7_X",
        "colab_type": "code",
        "colab": {}
      },
      "cell_type": "code",
      "source": [
        "def BatchActivate(x):\n",
        "    x = BatchNormalization()(x)\n",
        "    x = Activation('relu')(x)\n",
        "    return x\n",
        "\n",
        "def convolution_block(x, filters, size, strides=(1,1), padding='same', activation=True):\n",
        "    x = Conv2D(filters, size, strides=strides, padding=padding)(x)\n",
        "    if activation == True:\n",
        "        x = BatchActivate(x)\n",
        "    return x\n",
        "\n",
        "def residual_block(blockInput, num_filters=16, batch_activate = False):\n",
        "    x = BatchActivate(blockInput)\n",
        "    x = convolution_block(x, num_filters, (3,3) )\n",
        "    x = convolution_block(x, num_filters, (3,3), activation=False)\n",
        "    x = Add()([x, blockInput])\n",
        "    if batch_activate:\n",
        "        x = BatchActivate(x)\n",
        "    return x"
      ],
      "execution_count": 0,
      "outputs": []
    },
    {
      "metadata": {
        "id": "nJzzTpgTkKMF",
        "colab_type": "code",
        "colab": {}
      },
      "cell_type": "code",
      "source": [
        "# Build model\n",
        "def build_model(input_layer, start_neurons, DropoutRatio = 0.5):\n",
        "    # 101 -> 50\n",
        "    conv1 = Conv2D(start_neurons * 1, (3, 3), activation=None, padding=\"same\")(input_layer)\n",
        "    conv1 = residual_block(conv1,start_neurons * 1)\n",
        "    conv1 = residual_block(conv1,start_neurons * 1, True)\n",
        "    pool1 = MaxPooling2D((2, 2))(conv1)\n",
        "    pool1 = Dropout(DropoutRatio/2)(pool1)\n",
        "\n",
        "    # 50 -> 25\n",
        "    conv2 = Conv2D(start_neurons * 2, (3, 3), activation=None, padding=\"same\")(pool1)\n",
        "    conv2 = residual_block(conv2,start_neurons * 2)\n",
        "    conv2 = residual_block(conv2,start_neurons * 2, True)\n",
        "    pool2 = MaxPooling2D((2, 2))(conv2)\n",
        "    pool2 = Dropout(DropoutRatio)(pool2)\n",
        "\n",
        "    # 25 -> 12\n",
        "    conv3 = Conv2D(start_neurons * 4, (3, 3), activation=None, padding=\"same\")(pool2)\n",
        "    conv3 = residual_block(conv3,start_neurons * 4)\n",
        "    conv3 = residual_block(conv3,start_neurons * 4, True)\n",
        "    pool3 = MaxPooling2D((2, 2))(conv3)\n",
        "    pool3 = Dropout(DropoutRatio)(pool3)\n",
        "\n",
        "    # 12 -> 6\n",
        "    conv4 = Conv2D(start_neurons * 8, (3, 3), activation=None, padding=\"same\")(pool3)\n",
        "    conv4 = residual_block(conv4,start_neurons * 8)\n",
        "    conv4 = residual_block(conv4,start_neurons * 8, True)\n",
        "    pool4 = MaxPooling2D((2, 2))(conv4)\n",
        "    pool4 = Dropout(DropoutRatio)(pool4)\n",
        "\n",
        "    # Middle\n",
        "    convm = Conv2D(start_neurons * 16, (3, 3), activation=None, padding=\"same\")(pool4)\n",
        "    convm = residual_block(convm,start_neurons * 16)\n",
        "    convm = residual_block(convm,start_neurons * 16, True)\n",
        "    \n",
        "    # 6 -> 12\n",
        "    deconv4 = Conv2DTranspose(start_neurons * 8, (3, 3), strides=(2, 2), padding=\"same\")(convm)\n",
        "    uconv4 = concatenate([deconv4, conv4])\n",
        "    uconv4 = Dropout(DropoutRatio)(uconv4)\n",
        "    \n",
        "    uconv4 = Conv2D(start_neurons * 8, (3, 3), activation=None, padding=\"same\")(uconv4)\n",
        "    uconv4 = residual_block(uconv4,start_neurons * 8)\n",
        "    uconv4 = residual_block(uconv4,start_neurons * 8, True)\n",
        "    \n",
        "    # 12 -> 25\n",
        "    #deconv3 = Conv2DTranspose(start_neurons * 4, (3, 3), strides=(2, 2), padding=\"same\")(uconv4)\n",
        "    deconv3 = Conv2DTranspose(start_neurons * 4, (3, 3), strides=(2, 2), padding=\"valid\")(uconv4)\n",
        "    uconv3 = concatenate([deconv3, conv3])    \n",
        "    uconv3 = Dropout(DropoutRatio)(uconv3)\n",
        "    \n",
        "    uconv3 = Conv2D(start_neurons * 4, (3, 3), activation=None, padding=\"same\")(uconv3)\n",
        "    uconv3 = residual_block(uconv3,start_neurons * 4)\n",
        "    uconv3 = residual_block(uconv3,start_neurons * 4, True)\n",
        "\n",
        "    # 25 -> 50\n",
        "    deconv2 = Conv2DTranspose(start_neurons * 2, (3, 3), strides=(2, 2), padding=\"same\")(uconv3)\n",
        "    uconv2 = concatenate([deconv2, conv2])\n",
        "        \n",
        "    uconv2 = Dropout(DropoutRatio)(uconv2)\n",
        "    uconv2 = Conv2D(start_neurons * 2, (3, 3), activation=None, padding=\"same\")(uconv2)\n",
        "    uconv2 = residual_block(uconv2,start_neurons * 2)\n",
        "    uconv2 = residual_block(uconv2,start_neurons * 2, True)\n",
        "    \n",
        "    # 50 -> 101\n",
        "    #deconv1 = Conv2DTranspose(start_neurons * 1, (3, 3), strides=(2, 2), padding=\"same\")(uconv2)\n",
        "    deconv1 = Conv2DTranspose(start_neurons * 1, (3, 3), strides=(2, 2), padding=\"valid\")(uconv2)\n",
        "    uconv1 = concatenate([deconv1, conv1])\n",
        "    \n",
        "    uconv1 = Dropout(DropoutRatio)(uconv1)\n",
        "    uconv1 = Conv2D(start_neurons * 1, (3, 3), activation=None, padding=\"same\")(uconv1)\n",
        "    uconv1 = residual_block(uconv1,start_neurons * 1)\n",
        "    uconv1 = residual_block(uconv1,start_neurons * 1, True)\n",
        "    \n",
        "    #uconv1 = Dropout(DropoutRatio/2)(uconv1)\n",
        "    #output_layer = Conv2D(1, (1,1), padding=\"same\", activation=\"sigmoid\")(uconv1)\n",
        "    output_layer_noActi = Conv2D(1, (1,1), padding=\"same\", activation=None)(uconv1)\n",
        "    output_layer =  Activation('sigmoid')(output_layer_noActi)\n",
        "    \n",
        "    return output_layer"
      ],
      "execution_count": 0,
      "outputs": []
    },
    {
      "metadata": {
        "id": "t1V37JQlxQRy",
        "colab_type": "code",
        "colab": {}
      },
      "cell_type": "code",
      "source": [
        "def iou_loss_core(y_true, y_pred, smooth=1):\n",
        "    intersection = K.sum(K.abs(y_true * y_pred), axis=-1)\n",
        "    union = K.sum(y_true,-1) + K.sum(y_pred,-1) - intersection\n",
        "    iou = (intersection + smooth) / ( union + smooth)\n",
        "    return iou"
      ],
      "execution_count": 0,
      "outputs": []
    },
    {
      "metadata": {
        "id": "gF207bI8kiRG",
        "colab_type": "code",
        "colab": {
          "base_uri": "https://localhost:8080/",
          "height": 6494
        },
        "outputId": "74d09df1-b1fb-4b87-aa82-737e9803929d"
      },
      "cell_type": "code",
      "source": [
        "# model\n",
        "input_layer = Input((img_size_target, img_size_target, 1))\n",
        "output_layer = build_model(input_layer, 16,0.5)\n",
        "\n",
        "model1 = Model(input_layer, output_layer)\n",
        "\n",
        "c = optimizers.adam(lr = 0.01)\n",
        "model1.compile(loss=\"binary_crossentropy\", optimizer=c, metrics=[iou_loss_core])\n",
        "\n",
        "model1.summary()"
      ],
      "execution_count": 89,
      "outputs": [
        {
          "output_type": "stream",
          "text": [
            "__________________________________________________________________________________________________\n",
            "Layer (type)                    Output Shape         Param #     Connected to                     \n",
            "==================================================================================================\n",
            "input_4 (InputLayer)            (None, 101, 101, 1)  0                                            \n",
            "__________________________________________________________________________________________________\n",
            "conv2d_118 (Conv2D)             (None, 101, 101, 16) 160         input_4[0][0]                    \n",
            "__________________________________________________________________________________________________\n",
            "batch_normalization_116 (BatchN (None, 101, 101, 16) 64          conv2d_118[0][0]                 \n",
            "__________________________________________________________________________________________________\n",
            "activation_118 (Activation)     (None, 101, 101, 16) 0           batch_normalization_116[0][0]    \n",
            "__________________________________________________________________________________________________\n",
            "conv2d_119 (Conv2D)             (None, 101, 101, 16) 2320        activation_118[0][0]             \n",
            "__________________________________________________________________________________________________\n",
            "batch_normalization_117 (BatchN (None, 101, 101, 16) 64          conv2d_119[0][0]                 \n",
            "__________________________________________________________________________________________________\n",
            "activation_119 (Activation)     (None, 101, 101, 16) 0           batch_normalization_117[0][0]    \n",
            "__________________________________________________________________________________________________\n",
            "conv2d_120 (Conv2D)             (None, 101, 101, 16) 2320        activation_119[0][0]             \n",
            "__________________________________________________________________________________________________\n",
            "add_47 (Add)                    (None, 101, 101, 16) 0           conv2d_120[0][0]                 \n",
            "                                                                 conv2d_118[0][0]                 \n",
            "__________________________________________________________________________________________________\n",
            "batch_normalization_118 (BatchN (None, 101, 101, 16) 64          add_47[0][0]                     \n",
            "__________________________________________________________________________________________________\n",
            "activation_120 (Activation)     (None, 101, 101, 16) 0           batch_normalization_118[0][0]    \n",
            "__________________________________________________________________________________________________\n",
            "conv2d_121 (Conv2D)             (None, 101, 101, 16) 2320        activation_120[0][0]             \n",
            "__________________________________________________________________________________________________\n",
            "batch_normalization_119 (BatchN (None, 101, 101, 16) 64          conv2d_121[0][0]                 \n",
            "__________________________________________________________________________________________________\n",
            "activation_121 (Activation)     (None, 101, 101, 16) 0           batch_normalization_119[0][0]    \n",
            "__________________________________________________________________________________________________\n",
            "conv2d_122 (Conv2D)             (None, 101, 101, 16) 2320        activation_121[0][0]             \n",
            "__________________________________________________________________________________________________\n",
            "add_48 (Add)                    (None, 101, 101, 16) 0           conv2d_122[0][0]                 \n",
            "                                                                 add_47[0][0]                     \n",
            "__________________________________________________________________________________________________\n",
            "batch_normalization_120 (BatchN (None, 101, 101, 16) 64          add_48[0][0]                     \n",
            "__________________________________________________________________________________________________\n",
            "activation_122 (Activation)     (None, 101, 101, 16) 0           batch_normalization_120[0][0]    \n",
            "__________________________________________________________________________________________________\n",
            "max_pooling2d_13 (MaxPooling2D) (None, 50, 50, 16)   0           activation_122[0][0]             \n",
            "__________________________________________________________________________________________________\n",
            "dropout_21 (Dropout)            (None, 50, 50, 16)   0           max_pooling2d_13[0][0]           \n",
            "__________________________________________________________________________________________________\n",
            "conv2d_123 (Conv2D)             (None, 50, 50, 32)   4640        dropout_21[0][0]                 \n",
            "__________________________________________________________________________________________________\n",
            "batch_normalization_121 (BatchN (None, 50, 50, 32)   128         conv2d_123[0][0]                 \n",
            "__________________________________________________________________________________________________\n",
            "activation_123 (Activation)     (None, 50, 50, 32)   0           batch_normalization_121[0][0]    \n",
            "__________________________________________________________________________________________________\n",
            "conv2d_124 (Conv2D)             (None, 50, 50, 32)   9248        activation_123[0][0]             \n",
            "__________________________________________________________________________________________________\n",
            "batch_normalization_122 (BatchN (None, 50, 50, 32)   128         conv2d_124[0][0]                 \n",
            "__________________________________________________________________________________________________\n",
            "activation_124 (Activation)     (None, 50, 50, 32)   0           batch_normalization_122[0][0]    \n",
            "__________________________________________________________________________________________________\n",
            "conv2d_125 (Conv2D)             (None, 50, 50, 32)   9248        activation_124[0][0]             \n",
            "__________________________________________________________________________________________________\n",
            "add_49 (Add)                    (None, 50, 50, 32)   0           conv2d_125[0][0]                 \n",
            "                                                                 conv2d_123[0][0]                 \n",
            "__________________________________________________________________________________________________\n",
            "batch_normalization_123 (BatchN (None, 50, 50, 32)   128         add_49[0][0]                     \n",
            "__________________________________________________________________________________________________\n",
            "activation_125 (Activation)     (None, 50, 50, 32)   0           batch_normalization_123[0][0]    \n",
            "__________________________________________________________________________________________________\n",
            "conv2d_126 (Conv2D)             (None, 50, 50, 32)   9248        activation_125[0][0]             \n",
            "__________________________________________________________________________________________________\n",
            "batch_normalization_124 (BatchN (None, 50, 50, 32)   128         conv2d_126[0][0]                 \n",
            "__________________________________________________________________________________________________\n",
            "activation_126 (Activation)     (None, 50, 50, 32)   0           batch_normalization_124[0][0]    \n",
            "__________________________________________________________________________________________________\n",
            "conv2d_127 (Conv2D)             (None, 50, 50, 32)   9248        activation_126[0][0]             \n",
            "__________________________________________________________________________________________________\n",
            "add_50 (Add)                    (None, 50, 50, 32)   0           conv2d_127[0][0]                 \n",
            "                                                                 add_49[0][0]                     \n",
            "__________________________________________________________________________________________________\n",
            "batch_normalization_125 (BatchN (None, 50, 50, 32)   128         add_50[0][0]                     \n",
            "__________________________________________________________________________________________________\n",
            "activation_127 (Activation)     (None, 50, 50, 32)   0           batch_normalization_125[0][0]    \n",
            "__________________________________________________________________________________________________\n",
            "max_pooling2d_14 (MaxPooling2D) (None, 25, 25, 32)   0           activation_127[0][0]             \n",
            "__________________________________________________________________________________________________\n",
            "dropout_22 (Dropout)            (None, 25, 25, 32)   0           max_pooling2d_14[0][0]           \n",
            "__________________________________________________________________________________________________\n",
            "conv2d_128 (Conv2D)             (None, 25, 25, 64)   18496       dropout_22[0][0]                 \n",
            "__________________________________________________________________________________________________\n",
            "batch_normalization_126 (BatchN (None, 25, 25, 64)   256         conv2d_128[0][0]                 \n",
            "__________________________________________________________________________________________________\n",
            "activation_128 (Activation)     (None, 25, 25, 64)   0           batch_normalization_126[0][0]    \n",
            "__________________________________________________________________________________________________\n",
            "conv2d_129 (Conv2D)             (None, 25, 25, 64)   36928       activation_128[0][0]             \n",
            "__________________________________________________________________________________________________\n",
            "batch_normalization_127 (BatchN (None, 25, 25, 64)   256         conv2d_129[0][0]                 \n",
            "__________________________________________________________________________________________________\n",
            "activation_129 (Activation)     (None, 25, 25, 64)   0           batch_normalization_127[0][0]    \n",
            "__________________________________________________________________________________________________\n",
            "conv2d_130 (Conv2D)             (None, 25, 25, 64)   36928       activation_129[0][0]             \n",
            "__________________________________________________________________________________________________\n",
            "add_51 (Add)                    (None, 25, 25, 64)   0           conv2d_130[0][0]                 \n",
            "                                                                 conv2d_128[0][0]                 \n",
            "__________________________________________________________________________________________________\n",
            "batch_normalization_128 (BatchN (None, 25, 25, 64)   256         add_51[0][0]                     \n",
            "__________________________________________________________________________________________________\n",
            "activation_130 (Activation)     (None, 25, 25, 64)   0           batch_normalization_128[0][0]    \n",
            "__________________________________________________________________________________________________\n",
            "conv2d_131 (Conv2D)             (None, 25, 25, 64)   36928       activation_130[0][0]             \n",
            "__________________________________________________________________________________________________\n",
            "batch_normalization_129 (BatchN (None, 25, 25, 64)   256         conv2d_131[0][0]                 \n",
            "__________________________________________________________________________________________________\n",
            "activation_131 (Activation)     (None, 25, 25, 64)   0           batch_normalization_129[0][0]    \n",
            "__________________________________________________________________________________________________\n",
            "conv2d_132 (Conv2D)             (None, 25, 25, 64)   36928       activation_131[0][0]             \n",
            "__________________________________________________________________________________________________\n",
            "add_52 (Add)                    (None, 25, 25, 64)   0           conv2d_132[0][0]                 \n",
            "                                                                 add_51[0][0]                     \n",
            "__________________________________________________________________________________________________\n",
            "batch_normalization_130 (BatchN (None, 25, 25, 64)   256         add_52[0][0]                     \n",
            "__________________________________________________________________________________________________\n",
            "activation_132 (Activation)     (None, 25, 25, 64)   0           batch_normalization_130[0][0]    \n",
            "__________________________________________________________________________________________________\n",
            "max_pooling2d_15 (MaxPooling2D) (None, 12, 12, 64)   0           activation_132[0][0]             \n",
            "__________________________________________________________________________________________________\n",
            "dropout_23 (Dropout)            (None, 12, 12, 64)   0           max_pooling2d_15[0][0]           \n",
            "__________________________________________________________________________________________________\n",
            "conv2d_133 (Conv2D)             (None, 12, 12, 128)  73856       dropout_23[0][0]                 \n",
            "__________________________________________________________________________________________________\n",
            "batch_normalization_131 (BatchN (None, 12, 12, 128)  512         conv2d_133[0][0]                 \n",
            "__________________________________________________________________________________________________\n",
            "activation_133 (Activation)     (None, 12, 12, 128)  0           batch_normalization_131[0][0]    \n",
            "__________________________________________________________________________________________________\n",
            "conv2d_134 (Conv2D)             (None, 12, 12, 128)  147584      activation_133[0][0]             \n",
            "__________________________________________________________________________________________________\n",
            "batch_normalization_132 (BatchN (None, 12, 12, 128)  512         conv2d_134[0][0]                 \n",
            "__________________________________________________________________________________________________\n",
            "activation_134 (Activation)     (None, 12, 12, 128)  0           batch_normalization_132[0][0]    \n",
            "__________________________________________________________________________________________________\n",
            "conv2d_135 (Conv2D)             (None, 12, 12, 128)  147584      activation_134[0][0]             \n",
            "__________________________________________________________________________________________________\n",
            "add_53 (Add)                    (None, 12, 12, 128)  0           conv2d_135[0][0]                 \n",
            "                                                                 conv2d_133[0][0]                 \n",
            "__________________________________________________________________________________________________\n",
            "batch_normalization_133 (BatchN (None, 12, 12, 128)  512         add_53[0][0]                     \n",
            "__________________________________________________________________________________________________\n",
            "activation_135 (Activation)     (None, 12, 12, 128)  0           batch_normalization_133[0][0]    \n",
            "__________________________________________________________________________________________________\n",
            "conv2d_136 (Conv2D)             (None, 12, 12, 128)  147584      activation_135[0][0]             \n",
            "__________________________________________________________________________________________________\n",
            "batch_normalization_134 (BatchN (None, 12, 12, 128)  512         conv2d_136[0][0]                 \n",
            "__________________________________________________________________________________________________\n",
            "activation_136 (Activation)     (None, 12, 12, 128)  0           batch_normalization_134[0][0]    \n",
            "__________________________________________________________________________________________________\n",
            "conv2d_137 (Conv2D)             (None, 12, 12, 128)  147584      activation_136[0][0]             \n",
            "__________________________________________________________________________________________________\n",
            "add_54 (Add)                    (None, 12, 12, 128)  0           conv2d_137[0][0]                 \n",
            "                                                                 add_53[0][0]                     \n",
            "__________________________________________________________________________________________________\n",
            "batch_normalization_135 (BatchN (None, 12, 12, 128)  512         add_54[0][0]                     \n",
            "__________________________________________________________________________________________________\n",
            "activation_137 (Activation)     (None, 12, 12, 128)  0           batch_normalization_135[0][0]    \n",
            "__________________________________________________________________________________________________\n",
            "max_pooling2d_16 (MaxPooling2D) (None, 6, 6, 128)    0           activation_137[0][0]             \n",
            "__________________________________________________________________________________________________\n",
            "dropout_24 (Dropout)            (None, 6, 6, 128)    0           max_pooling2d_16[0][0]           \n",
            "__________________________________________________________________________________________________\n",
            "conv2d_138 (Conv2D)             (None, 6, 6, 256)    295168      dropout_24[0][0]                 \n",
            "__________________________________________________________________________________________________\n",
            "batch_normalization_136 (BatchN (None, 6, 6, 256)    1024        conv2d_138[0][0]                 \n",
            "__________________________________________________________________________________________________\n",
            "activation_138 (Activation)     (None, 6, 6, 256)    0           batch_normalization_136[0][0]    \n",
            "__________________________________________________________________________________________________\n",
            "conv2d_139 (Conv2D)             (None, 6, 6, 256)    590080      activation_138[0][0]             \n",
            "__________________________________________________________________________________________________\n",
            "batch_normalization_137 (BatchN (None, 6, 6, 256)    1024        conv2d_139[0][0]                 \n",
            "__________________________________________________________________________________________________\n",
            "activation_139 (Activation)     (None, 6, 6, 256)    0           batch_normalization_137[0][0]    \n",
            "__________________________________________________________________________________________________\n",
            "conv2d_140 (Conv2D)             (None, 6, 6, 256)    590080      activation_139[0][0]             \n",
            "__________________________________________________________________________________________________\n",
            "add_55 (Add)                    (None, 6, 6, 256)    0           conv2d_140[0][0]                 \n",
            "                                                                 conv2d_138[0][0]                 \n",
            "__________________________________________________________________________________________________\n",
            "batch_normalization_138 (BatchN (None, 6, 6, 256)    1024        add_55[0][0]                     \n",
            "__________________________________________________________________________________________________\n",
            "activation_140 (Activation)     (None, 6, 6, 256)    0           batch_normalization_138[0][0]    \n",
            "__________________________________________________________________________________________________\n",
            "conv2d_141 (Conv2D)             (None, 6, 6, 256)    590080      activation_140[0][0]             \n",
            "__________________________________________________________________________________________________\n",
            "batch_normalization_139 (BatchN (None, 6, 6, 256)    1024        conv2d_141[0][0]                 \n",
            "__________________________________________________________________________________________________\n",
            "activation_141 (Activation)     (None, 6, 6, 256)    0           batch_normalization_139[0][0]    \n",
            "__________________________________________________________________________________________________\n",
            "conv2d_142 (Conv2D)             (None, 6, 6, 256)    590080      activation_141[0][0]             \n",
            "__________________________________________________________________________________________________\n",
            "add_56 (Add)                    (None, 6, 6, 256)    0           conv2d_142[0][0]                 \n",
            "                                                                 add_55[0][0]                     \n",
            "__________________________________________________________________________________________________\n",
            "batch_normalization_140 (BatchN (None, 6, 6, 256)    1024        add_56[0][0]                     \n",
            "__________________________________________________________________________________________________\n",
            "activation_142 (Activation)     (None, 6, 6, 256)    0           batch_normalization_140[0][0]    \n",
            "__________________________________________________________________________________________________\n",
            "conv2d_transpose_10 (Conv2DTran (None, 12, 12, 128)  295040      activation_142[0][0]             \n",
            "__________________________________________________________________________________________________\n",
            "concatenate_10 (Concatenate)    (None, 12, 12, 256)  0           conv2d_transpose_10[0][0]        \n",
            "                                                                 activation_137[0][0]             \n",
            "__________________________________________________________________________________________________\n",
            "dropout_25 (Dropout)            (None, 12, 12, 256)  0           concatenate_10[0][0]             \n",
            "__________________________________________________________________________________________________\n",
            "conv2d_143 (Conv2D)             (None, 12, 12, 128)  295040      dropout_25[0][0]                 \n",
            "__________________________________________________________________________________________________\n",
            "batch_normalization_141 (BatchN (None, 12, 12, 128)  512         conv2d_143[0][0]                 \n",
            "__________________________________________________________________________________________________\n",
            "activation_143 (Activation)     (None, 12, 12, 128)  0           batch_normalization_141[0][0]    \n",
            "__________________________________________________________________________________________________\n",
            "conv2d_144 (Conv2D)             (None, 12, 12, 128)  147584      activation_143[0][0]             \n",
            "__________________________________________________________________________________________________\n",
            "batch_normalization_142 (BatchN (None, 12, 12, 128)  512         conv2d_144[0][0]                 \n",
            "__________________________________________________________________________________________________\n",
            "activation_144 (Activation)     (None, 12, 12, 128)  0           batch_normalization_142[0][0]    \n",
            "__________________________________________________________________________________________________\n",
            "conv2d_145 (Conv2D)             (None, 12, 12, 128)  147584      activation_144[0][0]             \n",
            "__________________________________________________________________________________________________\n",
            "add_57 (Add)                    (None, 12, 12, 128)  0           conv2d_145[0][0]                 \n",
            "                                                                 conv2d_143[0][0]                 \n",
            "__________________________________________________________________________________________________\n",
            "batch_normalization_143 (BatchN (None, 12, 12, 128)  512         add_57[0][0]                     \n",
            "__________________________________________________________________________________________________\n",
            "activation_145 (Activation)     (None, 12, 12, 128)  0           batch_normalization_143[0][0]    \n",
            "__________________________________________________________________________________________________\n",
            "conv2d_146 (Conv2D)             (None, 12, 12, 128)  147584      activation_145[0][0]             \n",
            "__________________________________________________________________________________________________\n",
            "batch_normalization_144 (BatchN (None, 12, 12, 128)  512         conv2d_146[0][0]                 \n",
            "__________________________________________________________________________________________________\n",
            "activation_146 (Activation)     (None, 12, 12, 128)  0           batch_normalization_144[0][0]    \n",
            "__________________________________________________________________________________________________\n",
            "conv2d_147 (Conv2D)             (None, 12, 12, 128)  147584      activation_146[0][0]             \n",
            "__________________________________________________________________________________________________\n",
            "add_58 (Add)                    (None, 12, 12, 128)  0           conv2d_147[0][0]                 \n",
            "                                                                 add_57[0][0]                     \n",
            "__________________________________________________________________________________________________\n",
            "batch_normalization_145 (BatchN (None, 12, 12, 128)  512         add_58[0][0]                     \n",
            "__________________________________________________________________________________________________\n",
            "activation_147 (Activation)     (None, 12, 12, 128)  0           batch_normalization_145[0][0]    \n",
            "__________________________________________________________________________________________________\n",
            "conv2d_transpose_11 (Conv2DTran (None, 25, 25, 64)   73792       activation_147[0][0]             \n",
            "__________________________________________________________________________________________________\n",
            "concatenate_11 (Concatenate)    (None, 25, 25, 128)  0           conv2d_transpose_11[0][0]        \n",
            "                                                                 activation_132[0][0]             \n",
            "__________________________________________________________________________________________________\n",
            "dropout_26 (Dropout)            (None, 25, 25, 128)  0           concatenate_11[0][0]             \n",
            "__________________________________________________________________________________________________\n",
            "conv2d_148 (Conv2D)             (None, 25, 25, 64)   73792       dropout_26[0][0]                 \n",
            "__________________________________________________________________________________________________\n",
            "batch_normalization_146 (BatchN (None, 25, 25, 64)   256         conv2d_148[0][0]                 \n",
            "__________________________________________________________________________________________________\n",
            "activation_148 (Activation)     (None, 25, 25, 64)   0           batch_normalization_146[0][0]    \n",
            "__________________________________________________________________________________________________\n",
            "conv2d_149 (Conv2D)             (None, 25, 25, 64)   36928       activation_148[0][0]             \n",
            "__________________________________________________________________________________________________\n",
            "batch_normalization_147 (BatchN (None, 25, 25, 64)   256         conv2d_149[0][0]                 \n",
            "__________________________________________________________________________________________________\n",
            "activation_149 (Activation)     (None, 25, 25, 64)   0           batch_normalization_147[0][0]    \n",
            "__________________________________________________________________________________________________\n",
            "conv2d_150 (Conv2D)             (None, 25, 25, 64)   36928       activation_149[0][0]             \n",
            "__________________________________________________________________________________________________\n",
            "add_59 (Add)                    (None, 25, 25, 64)   0           conv2d_150[0][0]                 \n",
            "                                                                 conv2d_148[0][0]                 \n",
            "__________________________________________________________________________________________________\n",
            "batch_normalization_148 (BatchN (None, 25, 25, 64)   256         add_59[0][0]                     \n",
            "__________________________________________________________________________________________________\n",
            "activation_150 (Activation)     (None, 25, 25, 64)   0           batch_normalization_148[0][0]    \n",
            "__________________________________________________________________________________________________\n",
            "conv2d_151 (Conv2D)             (None, 25, 25, 64)   36928       activation_150[0][0]             \n",
            "__________________________________________________________________________________________________\n",
            "batch_normalization_149 (BatchN (None, 25, 25, 64)   256         conv2d_151[0][0]                 \n",
            "__________________________________________________________________________________________________\n",
            "activation_151 (Activation)     (None, 25, 25, 64)   0           batch_normalization_149[0][0]    \n",
            "__________________________________________________________________________________________________\n",
            "conv2d_152 (Conv2D)             (None, 25, 25, 64)   36928       activation_151[0][0]             \n",
            "__________________________________________________________________________________________________\n",
            "add_60 (Add)                    (None, 25, 25, 64)   0           conv2d_152[0][0]                 \n",
            "                                                                 add_59[0][0]                     \n",
            "__________________________________________________________________________________________________\n",
            "batch_normalization_150 (BatchN (None, 25, 25, 64)   256         add_60[0][0]                     \n",
            "__________________________________________________________________________________________________\n",
            "activation_152 (Activation)     (None, 25, 25, 64)   0           batch_normalization_150[0][0]    \n",
            "__________________________________________________________________________________________________\n",
            "conv2d_transpose_12 (Conv2DTran (None, 50, 50, 32)   18464       activation_152[0][0]             \n",
            "__________________________________________________________________________________________________\n",
            "concatenate_12 (Concatenate)    (None, 50, 50, 64)   0           conv2d_transpose_12[0][0]        \n",
            "                                                                 activation_127[0][0]             \n",
            "__________________________________________________________________________________________________\n",
            "dropout_27 (Dropout)            (None, 50, 50, 64)   0           concatenate_12[0][0]             \n",
            "__________________________________________________________________________________________________\n",
            "conv2d_153 (Conv2D)             (None, 50, 50, 32)   18464       dropout_27[0][0]                 \n",
            "__________________________________________________________________________________________________\n",
            "batch_normalization_151 (BatchN (None, 50, 50, 32)   128         conv2d_153[0][0]                 \n",
            "__________________________________________________________________________________________________\n",
            "activation_153 (Activation)     (None, 50, 50, 32)   0           batch_normalization_151[0][0]    \n",
            "__________________________________________________________________________________________________\n",
            "conv2d_154 (Conv2D)             (None, 50, 50, 32)   9248        activation_153[0][0]             \n",
            "__________________________________________________________________________________________________\n",
            "batch_normalization_152 (BatchN (None, 50, 50, 32)   128         conv2d_154[0][0]                 \n",
            "__________________________________________________________________________________________________\n",
            "activation_154 (Activation)     (None, 50, 50, 32)   0           batch_normalization_152[0][0]    \n",
            "__________________________________________________________________________________________________\n",
            "conv2d_155 (Conv2D)             (None, 50, 50, 32)   9248        activation_154[0][0]             \n",
            "__________________________________________________________________________________________________\n",
            "add_61 (Add)                    (None, 50, 50, 32)   0           conv2d_155[0][0]                 \n",
            "                                                                 conv2d_153[0][0]                 \n",
            "__________________________________________________________________________________________________\n",
            "batch_normalization_153 (BatchN (None, 50, 50, 32)   128         add_61[0][0]                     \n",
            "__________________________________________________________________________________________________\n",
            "activation_155 (Activation)     (None, 50, 50, 32)   0           batch_normalization_153[0][0]    \n",
            "__________________________________________________________________________________________________\n",
            "conv2d_156 (Conv2D)             (None, 50, 50, 32)   9248        activation_155[0][0]             \n",
            "__________________________________________________________________________________________________\n",
            "batch_normalization_154 (BatchN (None, 50, 50, 32)   128         conv2d_156[0][0]                 \n",
            "__________________________________________________________________________________________________\n",
            "activation_156 (Activation)     (None, 50, 50, 32)   0           batch_normalization_154[0][0]    \n",
            "__________________________________________________________________________________________________\n",
            "conv2d_157 (Conv2D)             (None, 50, 50, 32)   9248        activation_156[0][0]             \n",
            "__________________________________________________________________________________________________\n",
            "add_62 (Add)                    (None, 50, 50, 32)   0           conv2d_157[0][0]                 \n",
            "                                                                 add_61[0][0]                     \n",
            "__________________________________________________________________________________________________\n",
            "batch_normalization_155 (BatchN (None, 50, 50, 32)   128         add_62[0][0]                     \n",
            "__________________________________________________________________________________________________\n",
            "activation_157 (Activation)     (None, 50, 50, 32)   0           batch_normalization_155[0][0]    \n",
            "__________________________________________________________________________________________________\n",
            "conv2d_transpose_13 (Conv2DTran (None, 101, 101, 16) 4624        activation_157[0][0]             \n",
            "__________________________________________________________________________________________________\n",
            "concatenate_13 (Concatenate)    (None, 101, 101, 32) 0           conv2d_transpose_13[0][0]        \n",
            "                                                                 activation_122[0][0]             \n",
            "__________________________________________________________________________________________________\n",
            "dropout_28 (Dropout)            (None, 101, 101, 32) 0           concatenate_13[0][0]             \n",
            "__________________________________________________________________________________________________\n",
            "conv2d_158 (Conv2D)             (None, 101, 101, 16) 4624        dropout_28[0][0]                 \n",
            "__________________________________________________________________________________________________\n",
            "batch_normalization_156 (BatchN (None, 101, 101, 16) 64          conv2d_158[0][0]                 \n",
            "__________________________________________________________________________________________________\n",
            "activation_158 (Activation)     (None, 101, 101, 16) 0           batch_normalization_156[0][0]    \n",
            "__________________________________________________________________________________________________\n",
            "conv2d_159 (Conv2D)             (None, 101, 101, 16) 2320        activation_158[0][0]             \n",
            "__________________________________________________________________________________________________\n",
            "batch_normalization_157 (BatchN (None, 101, 101, 16) 64          conv2d_159[0][0]                 \n",
            "__________________________________________________________________________________________________\n",
            "activation_159 (Activation)     (None, 101, 101, 16) 0           batch_normalization_157[0][0]    \n",
            "__________________________________________________________________________________________________\n",
            "conv2d_160 (Conv2D)             (None, 101, 101, 16) 2320        activation_159[0][0]             \n",
            "__________________________________________________________________________________________________\n",
            "add_63 (Add)                    (None, 101, 101, 16) 0           conv2d_160[0][0]                 \n",
            "                                                                 conv2d_158[0][0]                 \n",
            "__________________________________________________________________________________________________\n",
            "batch_normalization_158 (BatchN (None, 101, 101, 16) 64          add_63[0][0]                     \n",
            "__________________________________________________________________________________________________\n",
            "activation_160 (Activation)     (None, 101, 101, 16) 0           batch_normalization_158[0][0]    \n",
            "__________________________________________________________________________________________________\n",
            "conv2d_161 (Conv2D)             (None, 101, 101, 16) 2320        activation_160[0][0]             \n",
            "__________________________________________________________________________________________________\n",
            "batch_normalization_159 (BatchN (None, 101, 101, 16) 64          conv2d_161[0][0]                 \n",
            "__________________________________________________________________________________________________\n",
            "activation_161 (Activation)     (None, 101, 101, 16) 0           batch_normalization_159[0][0]    \n",
            "__________________________________________________________________________________________________\n",
            "conv2d_162 (Conv2D)             (None, 101, 101, 16) 2320        activation_161[0][0]             \n",
            "__________________________________________________________________________________________________\n",
            "add_64 (Add)                    (None, 101, 101, 16) 0           conv2d_162[0][0]                 \n",
            "                                                                 add_63[0][0]                     \n",
            "__________________________________________________________________________________________________\n",
            "batch_normalization_160 (BatchN (None, 101, 101, 16) 64          add_64[0][0]                     \n",
            "__________________________________________________________________________________________________\n",
            "activation_162 (Activation)     (None, 101, 101, 16) 0           batch_normalization_160[0][0]    \n",
            "__________________________________________________________________________________________________\n",
            "conv2d_163 (Conv2D)             (None, 101, 101, 1)  17          activation_162[0][0]             \n",
            "__________________________________________________________________________________________________\n",
            "activation_163 (Activation)     (None, 101, 101, 1)  0           conv2d_163[0][0]                 \n",
            "==================================================================================================\n",
            "Total params: 5,119,857\n",
            "Trainable params: 5,112,497\n",
            "Non-trainable params: 7,360\n",
            "__________________________________________________________________________________________________\n"
          ],
          "name": "stdout"
        }
      ]
    },
    {
      "metadata": {
        "id": "poJ2GKsLnWnQ",
        "colab_type": "code",
        "colab": {
          "base_uri": "https://localhost:8080/",
          "height": 51
        },
        "outputId": "1f4dd10b-cd8f-4f9b-ec8a-5250e132f185"
      },
      "cell_type": "code",
      "source": [
        "version = 5\n",
        "basic_name = f'Unet_resnet_v{version}'\n",
        "save_model_name = basic_name + '.model'\n",
        "submission_file = basic_name + '.csv'\n",
        "\n",
        "print(save_model_name)\n",
        "print(submission_file)"
      ],
      "execution_count": 90,
      "outputs": [
        {
          "output_type": "stream",
          "text": [
            "Unet_resnet_v5.model\n",
            "Unet_resnet_v5.csv\n"
          ],
          "name": "stdout"
        }
      ]
    },
    {
      "metadata": {
        "id": "axPjsPN6kiYL",
        "colab_type": "code",
        "colab": {
          "base_uri": "https://localhost:8080/",
          "height": 3590
        },
        "outputId": "4d8d22d2-6610-417e-8396-55f3d98b2675"
      },
      "cell_type": "code",
      "source": [
        "early_stopping = EarlyStopping(monitor='iou_loss_core', mode = 'max',patience=10, verbose=1)\n",
        "model_checkpoint = ModelCheckpoint(save_model_name,monitor='iou_loss_core', \n",
        "                                   mode = 'max', save_best_only=True, verbose=1)\n",
        "reduce_lr = ReduceLROnPlateau(monitor='iou_loss_core', mode = 'max',factor=0.5, patience=5, min_lr=0.0001, verbose=1)\n",
        "\n",
        "epochs = 50\n",
        "batch_size = 16\n",
        "history = model1.fit(x_train_aug, y_train_aug,\n",
        "                    validation_data=[x_valid, y_valid], \n",
        "                    epochs=epochs,\n",
        "                    batch_size=batch_size,\n",
        "                    callbacks=[ model_checkpoint,reduce_lr], \n",
        "                    verbose=1)"
      ],
      "execution_count": 98,
      "outputs": [
        {
          "output_type": "stream",
          "text": [
            "Train on 672 samples, validate on 85 samples\n",
            "Epoch 1/50\n",
            "672/672 [==============================] - 28s 42ms/step - loss: 0.3483 - iou_loss_core: 0.8482 - val_loss: 0.8506 - val_iou_loss_core: 0.8898\n",
            "\n",
            "Epoch 00001: iou_loss_core improved from -inf to 0.84822, saving model to Unet_resnet_v5.model\n",
            "Epoch 2/50\n",
            "672/672 [==============================] - 13s 19ms/step - loss: 0.3067 - iou_loss_core: 0.8708 - val_loss: 0.7102 - val_iou_loss_core: 0.8998\n",
            "\n",
            "Epoch 00002: iou_loss_core improved from 0.84822 to 0.87077, saving model to Unet_resnet_v5.model\n",
            "Epoch 3/50\n",
            "672/672 [==============================] - 13s 19ms/step - loss: 0.3057 - iou_loss_core: 0.8703 - val_loss: 1.9651 - val_iou_loss_core: 0.8966\n",
            "\n",
            "Epoch 00003: iou_loss_core did not improve from 0.87077\n",
            "Epoch 4/50\n",
            "672/672 [==============================] - 13s 19ms/step - loss: 0.3025 - iou_loss_core: 0.8711 - val_loss: 0.8536 - val_iou_loss_core: 0.8881\n",
            "\n",
            "Epoch 00004: iou_loss_core improved from 0.87077 to 0.87106, saving model to Unet_resnet_v5.model\n",
            "Epoch 5/50\n",
            "672/672 [==============================] - 13s 19ms/step - loss: 0.3006 - iou_loss_core: 0.8710 - val_loss: 0.3165 - val_iou_loss_core: 0.8353\n",
            "\n",
            "Epoch 00005: iou_loss_core did not improve from 0.87106\n",
            "Epoch 6/50\n",
            "672/672 [==============================] - 13s 19ms/step - loss: 0.3000 - iou_loss_core: 0.8713 - val_loss: 0.3246 - val_iou_loss_core: 0.8252\n",
            "\n",
            "Epoch 00006: iou_loss_core improved from 0.87106 to 0.87128, saving model to Unet_resnet_v5.model\n",
            "Epoch 7/50\n",
            "672/672 [==============================] - 13s 19ms/step - loss: 0.2977 - iou_loss_core: 0.8750 - val_loss: 0.3507 - val_iou_loss_core: 0.8056\n",
            "\n",
            "Epoch 00007: iou_loss_core improved from 0.87128 to 0.87497, saving model to Unet_resnet_v5.model\n",
            "Epoch 8/50\n",
            "672/672 [==============================] - 13s 19ms/step - loss: 0.3002 - iou_loss_core: 0.8723 - val_loss: 0.3509 - val_iou_loss_core: 0.8104\n",
            "\n",
            "Epoch 00008: iou_loss_core did not improve from 0.87497\n",
            "Epoch 9/50\n",
            "672/672 [==============================] - 13s 19ms/step - loss: 0.2952 - iou_loss_core: 0.8735 - val_loss: 0.4294 - val_iou_loss_core: 0.8428\n",
            "\n",
            "Epoch 00009: iou_loss_core did not improve from 0.87497\n",
            "Epoch 10/50\n",
            "672/672 [==============================] - 13s 19ms/step - loss: 0.2948 - iou_loss_core: 0.8741 - val_loss: 0.2860 - val_iou_loss_core: 0.8799\n",
            "\n",
            "Epoch 00010: iou_loss_core did not improve from 0.87497\n",
            "Epoch 11/50\n",
            "672/672 [==============================] - 13s 19ms/step - loss: 0.2970 - iou_loss_core: 0.8726 - val_loss: 0.3255 - val_iou_loss_core: 0.8271\n",
            "\n",
            "Epoch 00011: iou_loss_core did not improve from 0.87497\n",
            "Epoch 12/50\n",
            "672/672 [==============================] - 13s 19ms/step - loss: 0.2943 - iou_loss_core: 0.8744 - val_loss: 0.3316 - val_iou_loss_core: 0.8245\n",
            "\n",
            "Epoch 00012: iou_loss_core did not improve from 0.87497\n",
            "\n",
            "Epoch 00012: ReduceLROnPlateau reducing learning rate to 0.004999999888241291.\n",
            "Epoch 13/50\n",
            "672/672 [==============================] - 13s 19ms/step - loss: 0.2926 - iou_loss_core: 0.8760 - val_loss: 0.3119 - val_iou_loss_core: 0.8434\n",
            "\n",
            "Epoch 00013: iou_loss_core improved from 0.87497 to 0.87599, saving model to Unet_resnet_v5.model\n",
            "Epoch 14/50\n",
            "672/672 [==============================] - 13s 19ms/step - loss: 0.2923 - iou_loss_core: 0.8753 - val_loss: 0.3025 - val_iou_loss_core: 0.9098\n",
            "\n",
            "Epoch 00014: iou_loss_core did not improve from 0.87599\n",
            "Epoch 15/50\n",
            "672/672 [==============================] - 13s 19ms/step - loss: 0.2903 - iou_loss_core: 0.8748 - val_loss: 0.2817 - val_iou_loss_core: 0.8647\n",
            "\n",
            "Epoch 00015: iou_loss_core did not improve from 0.87599\n",
            "Epoch 16/50\n",
            "672/672 [==============================] - 13s 19ms/step - loss: 0.2888 - iou_loss_core: 0.8761 - val_loss: 0.2855 - val_iou_loss_core: 0.9022\n",
            "\n",
            "Epoch 00016: iou_loss_core improved from 0.87599 to 0.87610, saving model to Unet_resnet_v5.model\n",
            "Epoch 17/50\n",
            "672/672 [==============================] - 13s 19ms/step - loss: 0.2906 - iou_loss_core: 0.8754 - val_loss: 0.2762 - val_iou_loss_core: 0.8746\n",
            "\n",
            "Epoch 00017: iou_loss_core did not improve from 0.87610\n",
            "Epoch 18/50\n",
            "672/672 [==============================] - 13s 19ms/step - loss: 0.2891 - iou_loss_core: 0.8759 - val_loss: 0.2872 - val_iou_loss_core: 0.8612\n",
            "\n",
            "Epoch 00018: iou_loss_core did not improve from 0.87610\n",
            "Epoch 19/50\n",
            "672/672 [==============================] - 13s 19ms/step - loss: 0.2892 - iou_loss_core: 0.8774 - val_loss: 0.3073 - val_iou_loss_core: 0.8414\n",
            "\n",
            "Epoch 00019: iou_loss_core improved from 0.87610 to 0.87741, saving model to Unet_resnet_v5.model\n",
            "Epoch 20/50\n",
            "672/672 [==============================] - 12s 18ms/step - loss: 0.2874 - iou_loss_core: 0.8751 - val_loss: 0.2720 - val_iou_loss_core: 0.8801\n",
            "\n",
            "Epoch 00020: iou_loss_core did not improve from 0.87741\n",
            "Epoch 21/50\n",
            "672/672 [==============================] - 13s 19ms/step - loss: 0.2870 - iou_loss_core: 0.8780 - val_loss: 0.2788 - val_iou_loss_core: 0.9000\n",
            "\n",
            "Epoch 00021: iou_loss_core improved from 0.87741 to 0.87800, saving model to Unet_resnet_v5.model\n",
            "Epoch 22/50\n",
            "672/672 [==============================] - 13s 19ms/step - loss: 0.2874 - iou_loss_core: 0.8758 - val_loss: 0.2828 - val_iou_loss_core: 0.8604\n",
            "\n",
            "Epoch 00022: iou_loss_core did not improve from 0.87800\n",
            "Epoch 23/50\n",
            "672/672 [==============================] - 13s 19ms/step - loss: 0.2866 - iou_loss_core: 0.8771 - val_loss: 0.2717 - val_iou_loss_core: 0.8837\n",
            "\n",
            "Epoch 00023: iou_loss_core did not improve from 0.87800\n",
            "Epoch 24/50\n",
            "672/672 [==============================] - 13s 19ms/step - loss: 0.2848 - iou_loss_core: 0.8780 - val_loss: 0.2743 - val_iou_loss_core: 0.8743\n",
            "\n",
            "Epoch 00024: iou_loss_core did not improve from 0.87800\n",
            "Epoch 25/50\n",
            "672/672 [==============================] - 13s 19ms/step - loss: 0.2859 - iou_loss_core: 0.8775 - val_loss: 0.2787 - val_iou_loss_core: 0.8721\n",
            "\n",
            "Epoch 00025: iou_loss_core did not improve from 0.87800\n",
            "Epoch 26/50\n",
            "672/672 [==============================] - 13s 19ms/step - loss: 0.2869 - iou_loss_core: 0.8763 - val_loss: 0.2703 - val_iou_loss_core: 0.8741\n",
            "\n",
            "Epoch 00026: iou_loss_core did not improve from 0.87800\n",
            "\n",
            "Epoch 00026: ReduceLROnPlateau reducing learning rate to 0.0024999999441206455.\n",
            "Epoch 27/50\n",
            "672/672 [==============================] - 13s 19ms/step - loss: 0.2815 - iou_loss_core: 0.8791 - val_loss: 0.2711 - val_iou_loss_core: 0.8931\n",
            "\n",
            "Epoch 00027: iou_loss_core improved from 0.87800 to 0.87905, saving model to Unet_resnet_v5.model\n",
            "Epoch 28/50\n",
            "672/672 [==============================] - 13s 19ms/step - loss: 0.2817 - iou_loss_core: 0.8791 - val_loss: 0.2731 - val_iou_loss_core: 0.8998\n",
            "\n",
            "Epoch 00028: iou_loss_core improved from 0.87905 to 0.87905, saving model to Unet_resnet_v5.model\n",
            "Epoch 29/50\n",
            "672/672 [==============================] - 13s 19ms/step - loss: 0.2805 - iou_loss_core: 0.8786 - val_loss: 0.2732 - val_iou_loss_core: 0.9021\n",
            "\n",
            "Epoch 00029: iou_loss_core did not improve from 0.87905\n",
            "Epoch 30/50\n",
            "672/672 [==============================] - 13s 19ms/step - loss: 0.2805 - iou_loss_core: 0.8788 - val_loss: 0.2669 - val_iou_loss_core: 0.8959\n",
            "\n",
            "Epoch 00030: iou_loss_core did not improve from 0.87905\n",
            "Epoch 31/50\n",
            "672/672 [==============================] - 13s 19ms/step - loss: 0.2819 - iou_loss_core: 0.8784 - val_loss: 0.2671 - val_iou_loss_core: 0.8958\n",
            "\n",
            "Epoch 00031: iou_loss_core did not improve from 0.87905\n",
            "Epoch 32/50\n",
            "672/672 [==============================] - 13s 19ms/step - loss: 0.2786 - iou_loss_core: 0.8783 - val_loss: 0.2659 - val_iou_loss_core: 0.8897\n",
            "\n",
            "Epoch 00032: iou_loss_core did not improve from 0.87905\n",
            "\n",
            "Epoch 00032: ReduceLROnPlateau reducing learning rate to 0.0012499999720603228.\n",
            "Epoch 33/50\n",
            "672/672 [==============================] - 13s 19ms/step - loss: 0.2772 - iou_loss_core: 0.8814 - val_loss: 0.2646 - val_iou_loss_core: 0.8922\n",
            "\n",
            "Epoch 00033: iou_loss_core improved from 0.87905 to 0.88139, saving model to Unet_resnet_v5.model\n",
            "Epoch 34/50\n",
            "672/672 [==============================] - 13s 19ms/step - loss: 0.2767 - iou_loss_core: 0.8814 - val_loss: 0.2757 - val_iou_loss_core: 0.9064\n",
            "\n",
            "Epoch 00034: iou_loss_core improved from 0.88139 to 0.88142, saving model to Unet_resnet_v5.model\n",
            "Epoch 35/50\n",
            "672/672 [==============================] - 13s 19ms/step - loss: 0.2765 - iou_loss_core: 0.8801 - val_loss: 0.2717 - val_iou_loss_core: 0.9021\n",
            "\n",
            "Epoch 00035: iou_loss_core did not improve from 0.88142\n",
            "Epoch 36/50\n",
            "672/672 [==============================] - 13s 19ms/step - loss: 0.2756 - iou_loss_core: 0.8799 - val_loss: 0.2660 - val_iou_loss_core: 0.8982\n",
            "\n",
            "Epoch 00036: iou_loss_core did not improve from 0.88142\n",
            "Epoch 37/50\n",
            "672/672 [==============================] - 13s 19ms/step - loss: 0.2758 - iou_loss_core: 0.8814 - val_loss: 0.2829 - val_iou_loss_core: 0.9070\n",
            "\n",
            "Epoch 00037: iou_loss_core did not improve from 0.88142\n",
            "Epoch 38/50\n",
            "672/672 [==============================] - 13s 19ms/step - loss: 0.2754 - iou_loss_core: 0.8816 - val_loss: 0.3120 - val_iou_loss_core: 0.9146\n",
            "\n",
            "Epoch 00038: iou_loss_core improved from 0.88142 to 0.88159, saving model to Unet_resnet_v5.model\n",
            "Epoch 39/50\n",
            "672/672 [==============================] - 13s 19ms/step - loss: 0.2769 - iou_loss_core: 0.8806 - val_loss: 0.2720 - val_iou_loss_core: 0.9006\n",
            "\n",
            "Epoch 00039: iou_loss_core did not improve from 0.88159\n",
            "Epoch 40/50\n",
            "672/672 [==============================] - 13s 19ms/step - loss: 0.2735 - iou_loss_core: 0.8808 - val_loss: 0.2701 - val_iou_loss_core: 0.9028\n",
            "\n",
            "Epoch 00040: iou_loss_core did not improve from 0.88159\n",
            "Epoch 41/50\n",
            "672/672 [==============================] - 13s 19ms/step - loss: 0.2730 - iou_loss_core: 0.8807 - val_loss: 0.2674 - val_iou_loss_core: 0.9007\n",
            "\n",
            "Epoch 00041: iou_loss_core did not improve from 0.88159\n",
            "Epoch 42/50\n",
            "672/672 [==============================] - 13s 19ms/step - loss: 0.2720 - iou_loss_core: 0.8833 - val_loss: 0.2687 - val_iou_loss_core: 0.8967\n",
            "\n",
            "Epoch 00042: iou_loss_core improved from 0.88159 to 0.88331, saving model to Unet_resnet_v5.model\n",
            "Epoch 43/50\n",
            "672/672 [==============================] - 13s 19ms/step - loss: 0.2726 - iou_loss_core: 0.8830 - val_loss: 0.2822 - val_iou_loss_core: 0.9083\n",
            "\n",
            "Epoch 00043: iou_loss_core did not improve from 0.88331\n",
            "Epoch 44/50\n",
            "672/672 [==============================] - 12s 18ms/step - loss: 0.2719 - iou_loss_core: 0.8812 - val_loss: 0.2685 - val_iou_loss_core: 0.9011\n",
            "\n",
            "Epoch 00044: iou_loss_core did not improve from 0.88331\n",
            "Epoch 45/50\n",
            "672/672 [==============================] - 13s 19ms/step - loss: 0.2710 - iou_loss_core: 0.8826 - val_loss: 0.2721 - val_iou_loss_core: 0.9043\n",
            "\n",
            "Epoch 00045: iou_loss_core did not improve from 0.88331\n",
            "Epoch 46/50\n",
            "672/672 [==============================] - 13s 19ms/step - loss: 0.2708 - iou_loss_core: 0.8822 - val_loss: 0.2756 - val_iou_loss_core: 0.9045\n",
            "\n",
            "Epoch 00046: iou_loss_core did not improve from 0.88331\n",
            "Epoch 47/50\n",
            "672/672 [==============================] - 13s 19ms/step - loss: 0.2716 - iou_loss_core: 0.8828 - val_loss: 0.2721 - val_iou_loss_core: 0.9026\n",
            "\n",
            "Epoch 00047: iou_loss_core did not improve from 0.88331\n",
            "\n",
            "Epoch 00047: ReduceLROnPlateau reducing learning rate to 0.0006249999860301614.\n",
            "Epoch 48/50\n",
            "672/672 [==============================] - 13s 19ms/step - loss: 0.2689 - iou_loss_core: 0.8833 - val_loss: 0.2735 - val_iou_loss_core: 0.9069\n",
            "\n",
            "Epoch 00048: iou_loss_core improved from 0.88331 to 0.88332, saving model to Unet_resnet_v5.model\n",
            "Epoch 49/50\n",
            "672/672 [==============================] - 13s 19ms/step - loss: 0.2676 - iou_loss_core: 0.8827 - val_loss: 0.2679 - val_iou_loss_core: 0.9005\n",
            "\n",
            "Epoch 00049: iou_loss_core did not improve from 0.88332\n",
            "Epoch 50/50\n",
            "672/672 [==============================] - 13s 19ms/step - loss: 0.2683 - iou_loss_core: 0.8829 - val_loss: 0.2754 - val_iou_loss_core: 0.9052\n",
            "\n",
            "Epoch 00050: iou_loss_core did not improve from 0.88332\n"
          ],
          "name": "stdout"
        }
      ]
    },
    {
      "metadata": {
        "id": "vgo0wmZ2kibb",
        "colab_type": "code",
        "colab": {
          "base_uri": "https://localhost:8080/",
          "height": 341
        },
        "outputId": "74eda39c-bb09-4688-e14c-e4c26184a497"
      },
      "cell_type": "code",
      "source": [
        "fig, (ax_loss, ax_score) = plt.subplots(1, 2, figsize=(15,5))\n",
        "ax_loss.plot(history.epoch, history.history[\"loss\"], label=\"Train loss\")\n",
        "ax_loss.plot(history.epoch, history.history[\"val_loss\"], label=\"Validation loss\")\n",
        "ax_loss.legend()\n",
        "ax_score.plot(history.epoch, history.history[\"iou_loss_core\"], label=\"Train score\")\n",
        "ax_score.plot(history.epoch, history.history[\"val_iou_loss_core\"], label=\"Validation score\")\n",
        "ax_score.legend()"
      ],
      "execution_count": 99,
      "outputs": [
        {
          "output_type": "execute_result",
          "data": {
            "text/plain": [
              "<matplotlib.legend.Legend at 0x7f96275a0d30>"
            ]
          },
          "metadata": {
            "tags": []
          },
          "execution_count": 99
        },
        {
          "output_type": "display_data",
          "data": {
            "image/png": "[encoded data removed]",
            "text/plain": [
              "<Figure size 1080x360 with 2 Axes>"
            ]
          },
          "metadata": {
            "tags": []
          }
        }
      ]
    },
    {
      "metadata": {
        "id": "gH2Se_oekieb",
        "colab_type": "code",
        "colab": {
          "base_uri": "https://localhost:8080/",
          "height": 34
        },
        "outputId": "aa9b32f4-4313-4c71-9e0a-f2a864e724f5"
      },
      "cell_type": "code",
      "source": [
        "# predict\n",
        "\n",
        "preds_test = model1.predict(train_df.images.map(upsample)[0].reshape(-1, img_size_target, img_size_target, 1))\n",
        "preds_test.shape"
      ],
      "execution_count": 100,
      "outputs": [
        {
          "output_type": "execute_result",
          "data": {
            "text/plain": [
              "(1, 101, 101, 1)"
            ]
          },
          "metadata": {
            "tags": []
          },
          "execution_count": 100
        }
      ]
    },
    {
      "metadata": {
        "id": "gH3Fyvyt2hCK",
        "colab_type": "code",
        "colab": {
          "base_uri": "https://localhost:8080/",
          "height": 167
        },
        "outputId": "4466b22b-a501-4af3-cd39-56a77609c3cd"
      },
      "cell_type": "code",
      "source": [
        "plt.subplot(1, 3, 1)\n",
        "plt.imshow(train_df.images.map(upsample)[0])\n",
        "\n",
        "plt.subplot(1, 3, 2)\n",
        "plt.imshow(train_df.masks.map(upsample)[0])\n",
        "\n",
        "plt.subplot(1, 3, 3)\n",
        "plt.imshow(preds_test.reshape(101, 101))"
      ],
      "execution_count": 102,
      "outputs": [
        {
          "output_type": "execute_result",
          "data": {
            "text/plain": [
              "<matplotlib.image.AxesImage at 0x7f962711ea90>"
            ]
          },
          "metadata": {
            "tags": []
          },
          "execution_count": 102
        },
        {
          "output_type": "display_data",
          "data": {
            "image/png": "[encoded data removed]",
            "text/plain": [
              "<Figure size 432x288 with 3 Axes>"
            ]
          },
          "metadata": {
            "tags": []
          }
        }
      ]
    },
    {
      "metadata": {
        "id": "xit7crXd1uH_",
        "colab_type": "code",
        "colab": {}
      },
      "cell_type": "code",
      "source": [
        ""
      ],
      "execution_count": 0,
      "outputs": []
    },
    {
      "metadata": {
        "id": "QP_pC0V1kKi-",
        "colab_type": "code",
        "colab": {}
      },
      "cell_type": "code",
      "source": [
        ""
      ],
      "execution_count": 0,
      "outputs": []
    }
  ]
}